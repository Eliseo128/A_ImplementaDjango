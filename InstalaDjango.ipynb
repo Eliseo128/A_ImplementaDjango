{
  "nbformat": 4,
  "nbformat_minor": 0,
  "metadata": {
    "colab": {
      "provenance": [],
      "authorship_tag": "ABX9TyNgqEx4F6L59EUIpDBlEc2R",
      "include_colab_link": true
    },
    "kernelspec": {
      "name": "python3",
      "display_name": "Python 3"
    },
    "language_info": {
      "name": "python"
    }
  },
  "cells": [
    {
      "cell_type": "markdown",
      "metadata": {
        "id": "view-in-github",
        "colab_type": "text"
      },
      "source": [
        "<a href=\"https://colab.research.google.com/github/Eliseo128/A_ImplementaDjango/blob/main/InstalaDjango.ipynb\" target=\"_parent\"><img src=\"https://colab.research.google.com/assets/colab-badge.svg\" alt=\"Open In Colab\"/></a>"
      ]
    },
    {
      "cell_type": "markdown",
      "source": [
        "Procedimiento para Instalar Django  Windows 10 o superior\n",
        "-  Asegurate Asegurate de tener instalado VsCode con la extencion de Python\n",
        "-  Crea tu carpeta de trabajo en el directorio raiz C: como se muestra a continuacion:\n"
      ],
      "metadata": {
        "id": "IJdwut6mcMUm"
      }
    },
    {
      "cell_type": "markdown",
      "source": [
        "\n",
        "- [CarpetaTrabajo](- ![image](https://raw.githubusercontent.com/Eliseo128/A_ImplementaDjango/refs/heads/main/A_imgInstalaDjango/CarpetaTrabajo.png)"
      ],
      "metadata": {
        "id": "ngqIAg_gg4mm"
      }
    },
    {
      "cell_type": "markdown",
      "source": [
        "- Selecciona la carpeta de trabajo y con el boton secundario del mouse abrir con VsCode.\n",
        "\n",
        "- [CarpetaTrabajo](- ![image](https://raw.githubusercontent.com/Eliseo128/A_ImplementaDjango/refs/heads/main/A_imgInstalaDjango/vscode.png)"
      ],
      "metadata": {
        "id": "1Lv5VT7Rjy5W"
      }
    },
    {
      "cell_type": "code",
      "execution_count": null,
      "metadata": {
        "id": "4yTI-x7QbdVa"
      },
      "outputs": [],
      "source": []
    },
    {
      "cell_type": "markdown",
      "source": [
        "Abrir terminal de VsCode como se muestra a continuacion\n",
        "\n",
        "- [CarpetaTrabajo](- ![image](https://raw.githubusercontent.com/Eliseo128/A_ImplementaDjango/refs/heads/main/A_imgInstalaDjango/terminalvscode.png)"
      ],
      "metadata": {
        "id": "YNE9LfipluPf"
      }
    },
    {
      "cell_type": "markdown",
      "source": [
        "1 Asegurate de tener instalado Python, utiliza el siguiente comando"
      ],
      "metadata": {
        "id": "vSSptBWyijhl"
      }
    },
    {
      "cell_type": "code",
      "source": [
        "python --version"
      ],
      "metadata": {
        "id": "bBZFzZURjkpe"
      },
      "execution_count": null,
      "outputs": []
    },
    {
      "cell_type": "markdown",
      "source": [],
      "metadata": {
        "id": "Fre4GHJoicaO"
      }
    }
  ]
}